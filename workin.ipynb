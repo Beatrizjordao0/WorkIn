{
  "cells": [
    {
      "cell_type": "markdown",
      "metadata": {
        "id": "view-in-github",
        "colab_type": "text"
      },
      "source": [
        "<a href=\"https://colab.research.google.com/github/Beatrizjordao0/WorkIn/blob/main/workin.ipynb\" target=\"_parent\"><img src=\"https://colab.research.google.com/assets/colab-badge.svg\" alt=\"Open In Colab\"/></a>"
      ]
    },
    {
      "cell_type": "code",
      "execution_count": null,
      "metadata": {
        "id": "bn80Ixt5DJWb"
      },
      "outputs": [],
      "source": [
        "!git clone https://github.com/Gabriel-Oliveira-Prado/Telastest.git\n"
      ]
    },
    {
      "cell_type": "code",
      "execution_count": null,
      "metadata": {
        "id": "tbwvjac8DSZH"
      },
      "outputs": [],
      "source": [
        "!pip install kivy\n",
        "!pip install kivymd\n",
        "!pip install buildozer\n",
        "!apt update\n",
        "!apt install -y python3-pip\n",
        "!apt install -y build-essential libssl-dev libffi-dev python3-dev\n",
        "!pip install cython==0.29.21"
      ]
    },
    {
      "cell_type": "code",
      "execution_count": null,
      "metadata": {
        "id": "_63I6DeTDsdz"
      },
      "outputs": [],
      "source": [
        "!buildozer init\n"
      ]
    },
    {
      "cell_type": "code",
      "execution_count": null,
      "metadata": {
        "id": "GUb7tsCKFGXl"
      },
      "outputs": [],
      "source": [
        "\n",
        "!pip install --upgrade Cython\n",
        "\n"
      ]
    },
    {
      "cell_type": "code",
      "execution_count": null,
      "metadata": {
        "colab": {
          "background_save": true
        },
        "id": "Z51v2QEXKO0s"
      },
      "outputs": [],
      "source": [
        "!buildozer -v android debug"
      ]
    },
    {
      "cell_type": "markdown",
      "source": [
        "# App\n"
      ],
      "metadata": {
        "id": "toxZRdOZm-G2"
      }
    },
    {
      "cell_type": "code",
      "source": [],
      "metadata": {
        "id": "h2L9-uDPnJSD"
      },
      "execution_count": null,
      "outputs": []
    }
  ],
  "metadata": {
    "colab": {
      "provenance": [],
      "authorship_tag": "ABX9TyN5sIco1MTL/8Ho0KxPkG/m",
      "include_colab_link": true
    },
    "kernelspec": {
      "display_name": "Python 3",
      "name": "python3"
    },
    "language_info": {
      "name": "python"
    }
  },
  "nbformat": 4,
  "nbformat_minor": 0
}